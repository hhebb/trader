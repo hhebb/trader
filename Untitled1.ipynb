{
 "cells": [
  {
   "cell_type": "code",
   "execution_count": 1,
   "id": "86c9a74a",
   "metadata": {},
   "outputs": [
    {
     "data": {
      "text/plain": [
       "('64bit', 'WindowsPE')"
      ]
     },
     "execution_count": 1,
     "metadata": {},
     "output_type": "execute_result"
    }
   ],
   "source": [
    "import platform\n",
    "platform.architecture()"
   ]
  },
  {
   "cell_type": "code",
   "execution_count": null,
   "id": "fbc83484",
   "metadata": {},
   "outputs": [],
   "source": [
    "from pykiwoom.kiwoom import *\n",
    "\n",
    "kiwoom = Kiwoom()\n",
    "kiwoom.CommConnect(block=True)\n",
    "print(\"블록킹 로그인 완료\")"
   ]
  },
  {
   "cell_type": "code",
   "execution_count": 6,
   "id": "292fafa7",
   "metadata": {},
   "outputs": [
    {
     "data": {
      "text/plain": [
       "0"
      ]
     },
     "execution_count": 6,
     "metadata": {},
     "output_type": "execute_result"
    }
   ],
   "source": [
    "q = '''CREATE TABLE user (\n",
    "        id int(11) NOT NULL AUTO_INCREMENT PRIMARY KEY,\n",
    "        name varchar(255),\n",
    "        email varchar(255)\n",
    "        )\n",
    "        '''\n",
    "\n",
    "cur.execute(q)"
   ]
  },
  {
   "cell_type": "markdown",
   "id": "76ddbf2d",
   "metadata": {},
   "source": [
    "## 스키마\n",
    "\n",
    "### 테이블\n",
    "* 종목_종류_날짜\n",
    "    * ex) 005930_trans_20220811\n",
    "    * ex) 005930_order_20220811\n",
    "    * ex) 066570_order_20220902\n",
    "\n",
    "### order 스키마\n",
    "* 호가 시간\n",
    "* 매수 1 호가\n",
    "* 매수 1 호가 잔량\n",
    "* 매도 1 호가\n",
    "* 매도 1 호가 잔량\n",
    "* ...\n",
    "* 매수 10 호가\n",
    "* 매수 10 호가 잔량\n",
    "* 매도 10 호가\n",
    "* 매도 10 호가 잔량\n",
    "\n",
    "\n",
    "### trans 스키마\n",
    "* 체결 시간\n",
    "* 체결가\n",
    "* 체결량\n",
    "* 체결 강도"
   ]
  },
  {
   "cell_type": "code",
   "execution_count": 1,
   "id": "60f13290",
   "metadata": {},
   "outputs": [],
   "source": [
    "import pymysql\n",
    "from datetime import datetime"
   ]
  },
  {
   "cell_type": "code",
   "execution_count": 12,
   "id": "ed76494b",
   "metadata": {},
   "outputs": [
    {
     "data": {
      "text/plain": [
       "'20220804'"
      ]
     },
     "execution_count": 12,
     "metadata": {},
     "output_type": "execute_result"
    }
   ],
   "source": [
    "dt = datetime.now()\n",
    "datetime.strftime(dt, '%Y%m%d')"
   ]
  },
  {
   "cell_type": "code",
   "execution_count": 17,
   "id": "9b08cef6",
   "metadata": {},
   "outputs": [],
   "source": [
    "conn = pymysql.connect(\n",
    "    user='root', \n",
    "    passwd='0000', \n",
    "    host='localhost', \n",
    "    db='kiwoom', \n",
    "    charset='utf8'\n",
    ")\n",
    "\n",
    "cur = conn.cursor()"
   ]
  },
  {
   "cell_type": "code",
   "execution_count": 61,
   "id": "2a2324f4",
   "metadata": {},
   "outputs": [],
   "source": [
    "q = f'''CREATE TABLE {'000113'}_{'order'}_{'20220806'} (\n",
    "                    time datetime NOT NULL PRIMARY KEY,\n",
    "                    ask_1 int(255),\n",
    "                    ask_1_amt int(255)\n",
    "                    )'''\n",
    "\n",
    "cur.execute(q)\n",
    "conn.commit()"
   ]
  },
  {
   "cell_type": "code",
   "execution_count": 14,
   "id": "50f8ac81",
   "metadata": {},
   "outputs": [],
   "source": [
    "dt = datetime.now().strftime(\"%Y-%m-%d %H:%M:%S\")\n",
    "dt\n",
    "price = 13000\n",
    "amount = 20"
   ]
  },
  {
   "cell_type": "code",
   "execution_count": 18,
   "id": "0147b5f7",
   "metadata": {},
   "outputs": [],
   "source": [
    "q = f'''INSERT INTO 20220804_trans_005380 (time, price, amount) VALUES (%s, %s, %s)'''\n",
    "cur.execute(q, (dt, price, amount))\n",
    "conn.commit()"
   ]
  },
  {
   "cell_type": "code",
   "execution_count": 22,
   "id": "64369a82",
   "metadata": {},
   "outputs": [],
   "source": [
    "q = f'''INSERT INTO 20220804_order_005380 (time, ask_1, ask_1_amt, bid_1, bid_1_amt, ask_2, ask_2_amt, \n",
    "            bid_2, bid_2_amt, ask_3, ask_3_amt, bid_3, bid_3_amt, ask_4, ask_4_amt, bid_4, bid_4_amt, ask_5, ask_5_amt, \n",
    "            bid_5, bid_5_amt) VALUES (%s, %s, %s, %s, %s, %s, %s, %s, %s, %s, %s, %s, %s, %s, %s, %s, %s, %s, %s, %s, %s)'''\n",
    "\n",
    "cur.execute(q, (dt, \n",
    "                    19000, 20, 21000, 12, \n",
    "                    19000, 20, 21000, 12, \n",
    "                    19000, 20, 21000, 12, \n",
    "                    19000, 20, 21000, 12, \n",
    "                    19000, 20, 21000, 12))\n",
    "conn.commit()"
   ]
  },
  {
   "cell_type": "code",
   "execution_count": null,
   "id": "58834c3f",
   "metadata": {},
   "outputs": [],
   "source": [
    "cursor.execute('insert into table(id, date_created) values(%s, %s)', (id, formatted_date))\n"
   ]
  }
 ],
 "metadata": {
  "kernelspec": {
   "display_name": "Python 3 (ipykernel)",
   "language": "python",
   "name": "python3"
  },
  "language_info": {
   "codemirror_mode": {
    "name": "ipython",
    "version": 3
   },
   "file_extension": ".py",
   "mimetype": "text/x-python",
   "name": "python",
   "nbconvert_exporter": "python",
   "pygments_lexer": "ipython3",
   "version": "3.7.13"
  }
 },
 "nbformat": 4,
 "nbformat_minor": 5
}
