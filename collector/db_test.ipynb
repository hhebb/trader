{
 "cells": [
  {
   "cell_type": "code",
   "execution_count": 3,
   "metadata": {},
   "outputs": [],
   "source": [
    "import pymysql"
   ]
  },
  {
   "cell_type": "code",
   "execution_count": 10,
   "metadata": {},
   "outputs": [],
   "source": [
    "def get_connection():\n",
    "    conn = pymysql.connect(host='localhost',\n",
    "                    user='root',\n",
    "                    password='0000',\n",
    "                    database='candles')\n",
    "    cursor = conn.cursor()\n",
    "\n",
    "    return conn, cursor\n",
    "\n",
    "\n",
    "def q_create(table):\n",
    "    q = f'''CREATE TABLE {table} (\n",
    "                            id int NOT NULL PRIMARY KEY,\n",
    "                            time datetime,\n",
    "                            price int(255),\n",
    "                            amount int(255)\n",
    "                            )\n",
    "                            '''\n",
    "    return q\n",
    "\n",
    "\n",
    "def q_get_tables():\n",
    "    cursor.execute(q)\n",
    "    tables = cursor.fetchall()\n",
    "    return tables"
   ]
  },
  {
   "cell_type": "code",
   "execution_count": 11,
   "metadata": {},
   "outputs": [
    {
     "data": {
      "text/plain": [
       "0"
      ]
     },
     "execution_count": 11,
     "metadata": {},
     "output_type": "execute_result"
    }
   ],
   "source": [
    "conn, cursor = get_connection()\n",
    "q = create_query('test')\n",
    "cursor.execute(q)"
   ]
  },
  {
   "cell_type": "code",
   "execution_count": 30,
   "metadata": {},
   "outputs": [],
   "source": [
    "q = f'''SHOW DATABASES'''\n",
    "use = f'''USE kiwoom'''\n",
    "# q = f'''SELECT * FROM test;'''\n",
    "cursor.execute(use)\n",
    "\n",
    "q = f'''SHOW TABLES'''\n",
    "\n",
    "cursor.execute(q)\n",
    "tables = cursor.fetchall()"
   ]
  }
 ],
 "metadata": {
  "kernelspec": {
   "display_name": "ml",
   "language": "python",
   "name": "python3"
  },
  "language_info": {
   "codemirror_mode": {
    "name": "ipython",
    "version": 3
   },
   "file_extension": ".py",
   "mimetype": "text/x-python",
   "name": "python",
   "nbconvert_exporter": "python",
   "pygments_lexer": "ipython3",
   "version": "3.8.13"
  },
  "orig_nbformat": 4
 },
 "nbformat": 4,
 "nbformat_minor": 2
}
