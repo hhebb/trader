{
 "cells": [
  {
   "cell_type": "code",
   "execution_count": 1,
   "metadata": {},
   "outputs": [],
   "source": [
    "import pymysql"
   ]
  },
  {
   "cell_type": "code",
   "execution_count": 31,
   "metadata": {},
   "outputs": [],
   "source": [
    "# DBMS 연결 후 커서 반환\n",
    "def get_connection(host='localhost', user='root', password='0000', database=None):\n",
    "    conn = pymysql.connect(host=host,\n",
    "                    user=user,\n",
    "                    password=password,\n",
    "                    database=database)\n",
    "    cursor = conn.cursor()\n",
    "\n",
    "    return conn, cursor\n",
    "\n",
    "\n",
    "# db 선택\n",
    "def set_db(cursor, db_name):\n",
    "    q = f'USE {db_name}'\n",
    "    cursor.execute(q)\n",
    "\n",
    "\n",
    "# 현재 선택된 db 반환\n",
    "def get_current(cursor):\n",
    "    q = f'''SELECT DATABASE()'''\n",
    "    cursor.execute(q)\n",
    "    current = cursor.fetchall()\n",
    "\n",
    "    return current[0][0]\n",
    "\n",
    "\n",
    "# 테이블 생성\n",
    "def create_table(cursor, table_name, items):\n",
    "    q = f'''CREATE TABLE {table_name} (\n",
    "                            id int NOT NULL PRIMARY KEY,\n",
    "                            time datetime,\n",
    "                            price int(255),\n",
    "                            amount int(255)\n",
    "                            )\n",
    "                            '''\n",
    "    cursor.execute(q)\n",
    "\n",
    "\n",
    "# 테이블 제거\n",
    "def remove_table(cursor, table_name):\n",
    "    q = f'''DROP TABLE {table_name}'''\n",
    "    cursor.execute(q)\n",
    "\n",
    "\n",
    "# 레코드 추가\n",
    "def insert_row(cursor, table, items):\n",
    "\n",
    "    q = f'''INSERT INTO {table} (id, time, \n",
    "            ask_1, ask_1_amt, ask_1_before, bid_1, bid_1_amt, bid_1_before, \n",
    "            ask_2, ask_2_amt, ask_2_before, bid_2, bid_2_amt, bid_2_before, \n",
    "            ask_3, ask_3_amt, ask_3_before, bid_3, bid_3_amt, bid_3_before, \n",
    "            ask_4, ask_4_amt, ask_4_before, bid_4, bid_4_amt, bid_4_before, \n",
    "            ask_5, ask_5_amt, ask_5_before, bid_5, bid_5_amt, bid_5_before) \n",
    "            VALUES (%s, %s, %s, %s, %s, %s, %s, %s, %s, %s, %s, %s, %s, %s, \n",
    "            %s, %s, %s, %s, %s, %s, %s, %s, %s, %s, %s, %s, %s, %s, %s, %s, %s, %s)'''\n",
    "\n",
    "    cursor.execute(q)\n",
    "\n",
    "    return\n",
    "\n",
    "\n",
    "# 테이블 목록 반환\n",
    "def get_tables(cursor) -> list:\n",
    "    q = f'''SHOW TABLES'''\n",
    "    cursor.execute(q)\n",
    "    tables = cursor.fetchall()\n",
    "\n",
    "    return tables\n",
    "\n",
    "\n",
    "# DB 목록 반환\n",
    "def get_dbs(cursor) -> list:\n",
    "    q = f'''SHOW DATABASES'''\n",
    "    cursor.execute(q)\n",
    "    dbs = cursor.fetchall()\n",
    "\n",
    "    return dbs"
   ]
  },
  {
   "cell_type": "code",
   "execution_count": 5,
   "metadata": {},
   "outputs": [],
   "source": [
    "conn, cursor = get_connection()"
   ]
  },
  {
   "cell_type": "code",
   "execution_count": 35,
   "metadata": {},
   "outputs": [
    {
     "name": "stdout",
     "output_type": "stream",
     "text": [
      "(('candles',), ('information_schema',), ('kiwoom',), ('mysql',), ('orders',), ('performance_schema',), ('sakila',), ('sys',))\n"
     ]
    }
   ],
   "source": [
    "set_db(cursor, 'candles')\n",
    "get_current(cursor)\n",
    "print(get_dbs(cursor))"
   ]
  }
 ],
 "metadata": {
  "kernelspec": {
   "display_name": "ml",
   "language": "python",
   "name": "python3"
  },
  "language_info": {
   "codemirror_mode": {
    "name": "ipython",
    "version": 3
   },
   "file_extension": ".py",
   "mimetype": "text/x-python",
   "name": "python",
   "nbconvert_exporter": "python",
   "pygments_lexer": "ipython3",
   "version": "3.8.13"
  },
  "orig_nbformat": 4
 },
 "nbformat": 4,
 "nbformat_minor": 2
}
