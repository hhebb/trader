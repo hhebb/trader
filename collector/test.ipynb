{
 "cells": [
  {
   "cell_type": "code",
   "execution_count": null,
   "metadata": {},
   "outputs": [],
   "source": [
    "import requests"
   ]
  },
  {
   "cell_type": "code",
   "execution_count": 7,
   "metadata": {},
   "outputs": [],
   "source": [
    "class collector:\n",
    "    def __init__(self):\n",
    "        pass\n",
    "    \n",
    "    # 현 시점의 데이터 수집 - rest api\n",
    "    def test():\n",
    "        url = ''\n",
    "        # 파라미터들 받고 get 수행\n",
    "        # json 받고 미리 정의한 테이블 스키마대로 변형\n",
    "        # 반환\n",
    "        \n",
    "        # return table\n",
    "        pass\n",
    "    \n",
    "    # 현 시점부터 데이터 스트리밍 수집 - wss\n",
    "    def test():\n",
    "        pass\n",
    "\n",
    "    # 과거 캔들 데이터 한 번에 수집\n",
    "    def test(self):\n",
    "        pass"
   ]
  },
  {
   "cell_type": "code",
   "execution_count": null,
   "metadata": {},
   "outputs": [],
   "source": [
    "def get_candle():\n",
    "    symbol = \"BTCUSDT\" # Symbol to get candle data for\n",
    "    interval = \"1m\" # Interval for the candle data (e.g. 1m = 1 minute, 1h = 1 hour)\n",
    "\n",
    "    url = f\"https://api.binance.com/api/v3/klines?symbol={symbol}&interval={interval}\"\n",
    "\n",
    "    response = requests.get(url)\n",
    "\n",
    "    if response.status_code == 200:\n",
    "        candles = response.json()\n",
    "        for candle in candles:\n",
    "            print(candle)\n",
    "\n",
    "    else:\n",
    "        print(f\"Error getting candle data: {response.text}\")\n",
    "get_candle()"
   ]
  },
  {
   "cell_type": "code",
   "execution_count": null,
   "metadata": {},
   "outputs": [],
   "source": [
    "import requests\n",
    "\n",
    "url = 'https://poloniex.com/public?command=returnChartData&currencyPair=BTC_ETH&start=1514764800&end=9999999999&period=300'\n",
    "\n",
    "response = requests.get(url)\n",
    "\n",
    "print(response.json())\n"
   ]
  },
  {
   "cell_type": "code",
   "execution_count": null,
   "metadata": {},
   "outputs": [],
   "source": [
    "import requests\n",
    "\n",
    "url = 'https://api-pub.bitfinex.com/v2/candles/trade:5m:tBTCUSD/hist?limit=1000'\n",
    "\n",
    "response = requests.get(url)\n",
    "\n",
    "print(response.json())\n"
   ]
  },
  {
   "cell_type": "code",
   "execution_count": null,
   "metadata": {},
   "outputs": [],
   "source": [
    "import requests\n",
    "\n",
    "url = 'https://api.kraken.com/0/public/OHLC?pair=XBTUSD&interval=5'\n",
    "\n",
    "response = requests.get(url)\n",
    "\n",
    "print(response.json())\n"
   ]
  },
  {
   "cell_type": "code",
   "execution_count": null,
   "metadata": {},
   "outputs": [],
   "source": [
    "import requests\n",
    "\n",
    "url = 'https://api.coinone.co.kr/candles/v1/candle'\n",
    "\n",
    "params = {\n",
    "    'currency': 'btc',\n",
    "    'interval': '1800',\n",
    "    'first_time': '1483228800',\n",
    "    'last_time': '9999999999',\n",
    "}\n",
    "\n",
    "response = requests.get(url, params=params)\n",
    "\n",
    "print(response)\n",
    "print(response.json())\n"
   ]
  },
  {
   "cell_type": "code",
   "execution_count": null,
   "metadata": {},
   "outputs": [],
   "source": [
    "import requests\n",
    "\n",
    "url = 'https://api.korbit.co.kr/v1/ticker/days'\n",
    "\n",
    "params = {\n",
    "    'currency_pair': 'btc_krw',\n",
    "    'interval': '720',\n",
    "    'start': '1514764800',\n",
    "    'end': '9999999999',\n",
    "}\n",
    "\n",
    "response = requests.get(url, params=params)\n",
    "\n",
    "print(response.json())\n"
   ]
  }
 ],
 "metadata": {
  "kernelspec": {
   "display_name": "ml",
   "language": "python",
   "name": "python3"
  },
  "language_info": {
   "codemirror_mode": {
    "name": "ipython",
    "version": 3
   },
   "file_extension": ".py",
   "mimetype": "text/x-python",
   "name": "python",
   "nbconvert_exporter": "python",
   "pygments_lexer": "ipython3",
   "version": "3.8.13"
  },
  "orig_nbformat": 4
 },
 "nbformat": 4,
 "nbformat_minor": 2
}
